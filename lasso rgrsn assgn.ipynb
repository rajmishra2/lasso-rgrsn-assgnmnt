{
 "cells": [
  {
   "cell_type": "markdown",
   "id": "aa3c5c97-5e67-442d-ab38-5b5c9e35b5d0",
   "metadata": {},
   "source": [
    "##Q1. What is Lasso Regression, and how does it differ from other regression techniques?\n",
    "Lasso regression is a regularization technique. It is used over regression methods for a more accurate prediction. This model uses shrinkage. Shrinkage is where data values are shrunk towards a central point as the mean"
   ]
  },
  {
   "cell_type": "markdown",
   "id": "62565057-14cc-411b-a015-5a96b108aa01",
   "metadata": {},
   "source": [
    "Q2. What is the main advantage of using Lasso Regression in feature selection?\n",
    "The main advantage of a LASSO regression model is that it has the ability to set the coefficients for features it does not consider interesting to zero. This means that the model does some automatic feature selection to decide which features should and should not be included on its own. Reduced overfitting."
   ]
  },
  {
   "cell_type": "markdown",
   "id": "07f67f64-cfec-4eda-badb-09b01bc378ed",
   "metadata": {},
   "source": [
    "Q3. How do you interpret the coefficients of a Lasso Regression model?\n",
    "How do you interpret the coefficients of a lasso regression model?\n",
    "The coefficients can be used to understand the impact of each feature on the target variable, and also help in feature selection. In this case, we can see that some of the coefficients are zero, indicating that those features may not be important in predicting the target variable"
   ]
  },
  {
   "cell_type": "markdown",
   "id": "f5156409-5552-413b-ad34-a678331342d1",
   "metadata": {},
   "source": [
    "Q5. Can Lasso Regression be used for non-linear regression problems? If yes, how?\n",
    "If you can linearize the model, then yes but for an approximate solution in the LS sense since what is measured is y and not any of its possible transforms"
   ]
  },
  {
   "cell_type": "markdown",
   "id": "7055c61d-b2c9-4c4e-9912-9dcd3513d9d7",
   "metadata": {},
   "source": [
    "Q6. What is the difference between Ridge Regression and Lasso Regression?\n",
    "ridge regression use to reduce overfitting and laso regression is for feature selection"
   ]
  },
  {
   "cell_type": "markdown",
   "id": "70c44aba-4885-4852-aadf-c1316850af08",
   "metadata": {},
   "source": [
    "Q7. Can Lasso Regression handle multicollinearity in the input features? If yes, how?\n",
    "LASSO regression are advanced forms of regression analysis that can handle multicollinearity\n",
    "lasso has shown success in many situations, it has two limitations in practice  1. When the model includes several highly correlated variables, all of which are related to some extent to the response variable, lasso tends to pick only one or a few of them and shrinks the rest to 0.\n"
   ]
  },
  {
   "cell_type": "markdown",
   "id": "1d079b88-e6a6-4bde-b961-5671c40e22b9",
   "metadata": {},
   "source": [
    "Q8. How do you choose the optimal value of the regularization parameter (lambda) in Lasso Regression?\n",
    "\n",
    "When choosing a lambda value, the goal is to strike the right balance between simplicity and training-data fit: If your lambda value is too high, your model will be simple, but you run the risk of underfitting your data. Your model won't learn enough about the training data to make useful predictions"
   ]
  }
 ],
 "metadata": {
  "kernelspec": {
   "display_name": "Python 3 (ipykernel)",
   "language": "python",
   "name": "python3"
  },
  "language_info": {
   "codemirror_mode": {
    "name": "ipython",
    "version": 3
   },
   "file_extension": ".py",
   "mimetype": "text/x-python",
   "name": "python",
   "nbconvert_exporter": "python",
   "pygments_lexer": "ipython3",
   "version": "3.10.8"
  }
 },
 "nbformat": 4,
 "nbformat_minor": 5
}
